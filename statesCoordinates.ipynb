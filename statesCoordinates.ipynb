{
 "cells": [
  {
   "cell_type": "code",
   "execution_count": 1,
   "metadata": {},
   "outputs": [],
   "source": [
    "#Importing dependencies\n",
    "import datetime\n",
    "import pandas as pd\n",
    "import numpy as np"
   ]
  },
  {
   "cell_type": "code",
   "execution_count": 2,
   "metadata": {},
   "outputs": [
    {
     "name": "stdout",
     "output_type": "stream",
     "text": [
      "  State        Lat        Lon  TotalDeforestationByStateKM2\n",
      "0    AC  -8.799616 -70.790213                          5722\n",
      "1    AM  -4.826054 -64.295245                         12425\n",
      "2    AP   2.261218 -50.770302                           616\n",
      "3    MA  -5.091296 -45.028427                          8318\n",
      "4    MT -12.743186 -55.746949                         43065\n",
      "5    PA  -5.522697 -52.057058                         62778\n",
      "6    RO -11.004655 -62.680515                         22279\n",
      "7    RR   1.684943 -61.248485                          3891\n",
      "8    TO -10.804495 -48.258740                          1241\n",
      "{\"0\":{\"State\":\"AC\",\"Lat\":-8.799616483,\"Lon\":-70.79021306,\"TotalDeforestationByStateKM2\":5722},\"1\":{\"State\":\"AM\",\"Lat\":-4.82605443,\"Lon\":-64.29524493,\"TotalDeforestationByStateKM2\":12425},\"2\":{\"State\":\"AP\",\"Lat\":2.26121804,\"Lon\":-50.77030209,\"TotalDeforestationByStateKM2\":616},\"3\":{\"State\":\"MA\",\"Lat\":-5.091295651,\"Lon\":-45.02842682,\"TotalDeforestationByStateKM2\":8318},\"4\":{\"State\":\"MT\",\"Lat\":-12.74318585,\"Lon\":-55.74694942,\"TotalDeforestationByStateKM2\":43065},\"5\":{\"State\":\"PA\",\"Lat\":-5.52269735,\"Lon\":-52.05705842,\"TotalDeforestationByStateKM2\":62778},\"6\":{\"State\":\"RO\",\"Lat\":-11.00465456,\"Lon\":-62.68051451,\"TotalDeforestationByStateKM2\":22279},\"7\":{\"State\":\"RR\",\"Lat\":1.684942509,\"Lon\":-61.24848515,\"TotalDeforestationByStateKM2\":3891},\"8\":{\"State\":\"TO\",\"Lat\":-10.80449496,\"Lon\":-48.25873989,\"TotalDeforestationByStateKM2\":1241}}\n"
     ]
    }
   ],
   "source": [
    "#Creating df with only the sates coordinates\n",
    "#Getting all the states of the amazon rainforest and theire coordinates df\n",
    "d = {'State':['AC', 'AM', 'AP', 'MA', 'MT', 'PA', 'RO', 'RR', 'TO'], 'Lat': [-8.799616483, -4.82605443, 2.26121804, -5.091295651, -12.74318585, -5.52269735, -11.00465456, 1.684942509,-10.80449496], \"Lon\" :[-70.79021306,-64.29524493,-50.77030209,-45.02842682,-55.74694942,-52.05705842,-62.68051451,-61.24848515,-48.25873989], \"TotalDeforestationByStateKM2\":[5722, 12425, 616, 8318, 43065, 62778, 22279, 3891, 1241]}\n",
    "\n",
    "#Create the df\n",
    "coordinates_df = pd.DataFrame(data=d)\n",
    "\n",
    "#Display the data frame\n",
    "print(coordinates_df)\n",
    "\n",
    "#Saving the file into csv format\n",
    "coordinates_df.to_csv(\"data/CoordinatesAndDeforestation.csv\")\n",
    "#Getting the value into json format\n",
    "js_file = coordinates_df.to_json(orient = 'index')\n",
    "\n",
    "print(js_file)"
   ]
  },
  {
   "cell_type": "code",
   "execution_count": 3,
   "metadata": {},
   "outputs": [
    {
     "data": {
      "text/html": [
       "<div>\n",
       "<style scoped>\n",
       "    .dataframe tbody tr th:only-of-type {\n",
       "        vertical-align: middle;\n",
       "    }\n",
       "\n",
       "    .dataframe tbody tr th {\n",
       "        vertical-align: top;\n",
       "    }\n",
       "\n",
       "    .dataframe thead th {\n",
       "        text-align: right;\n",
       "    }\n",
       "</style>\n",
       "<table border=\"1\" class=\"dataframe\">\n",
       "  <thead>\n",
       "    <tr style=\"text-align: right;\">\n",
       "      <th></th>\n",
       "      <th>State</th>\n",
       "      <th>Lat</th>\n",
       "      <th>Lon</th>\n",
       "      <th>TotalDeforestationByStateKM2</th>\n",
       "    </tr>\n",
       "  </thead>\n",
       "  <tbody>\n",
       "    <tr>\n",
       "      <th>0</th>\n",
       "      <td>AC</td>\n",
       "      <td>-8.799616</td>\n",
       "      <td>-70.790213</td>\n",
       "      <td>5722</td>\n",
       "    </tr>\n",
       "    <tr>\n",
       "      <th>1</th>\n",
       "      <td>AM</td>\n",
       "      <td>-4.826054</td>\n",
       "      <td>-64.295245</td>\n",
       "      <td>12425</td>\n",
       "    </tr>\n",
       "    <tr>\n",
       "      <th>2</th>\n",
       "      <td>AP</td>\n",
       "      <td>2.261218</td>\n",
       "      <td>-50.770302</td>\n",
       "      <td>616</td>\n",
       "    </tr>\n",
       "    <tr>\n",
       "      <th>3</th>\n",
       "      <td>MA</td>\n",
       "      <td>-5.091296</td>\n",
       "      <td>-45.028427</td>\n",
       "      <td>8318</td>\n",
       "    </tr>\n",
       "    <tr>\n",
       "      <th>4</th>\n",
       "      <td>MT</td>\n",
       "      <td>-12.743186</td>\n",
       "      <td>-55.746949</td>\n",
       "      <td>43065</td>\n",
       "    </tr>\n",
       "    <tr>\n",
       "      <th>5</th>\n",
       "      <td>PA</td>\n",
       "      <td>-5.522697</td>\n",
       "      <td>-52.057058</td>\n",
       "      <td>62778</td>\n",
       "    </tr>\n",
       "    <tr>\n",
       "      <th>6</th>\n",
       "      <td>RO</td>\n",
       "      <td>-11.004655</td>\n",
       "      <td>-62.680515</td>\n",
       "      <td>22279</td>\n",
       "    </tr>\n",
       "    <tr>\n",
       "      <th>7</th>\n",
       "      <td>RR</td>\n",
       "      <td>1.684943</td>\n",
       "      <td>-61.248485</td>\n",
       "      <td>3891</td>\n",
       "    </tr>\n",
       "    <tr>\n",
       "      <th>8</th>\n",
       "      <td>TO</td>\n",
       "      <td>-10.804495</td>\n",
       "      <td>-48.258740</td>\n",
       "      <td>1241</td>\n",
       "    </tr>\n",
       "  </tbody>\n",
       "</table>\n",
       "</div>"
      ],
      "text/plain": [
       "  State        Lat        Lon  TotalDeforestationByStateKM2\n",
       "0    AC  -8.799616 -70.790213                          5722\n",
       "1    AM  -4.826054 -64.295245                         12425\n",
       "2    AP   2.261218 -50.770302                           616\n",
       "3    MA  -5.091296 -45.028427                          8318\n",
       "4    MT -12.743186 -55.746949                         43065\n",
       "5    PA  -5.522697 -52.057058                         62778\n",
       "6    RO -11.004655 -62.680515                         22279\n",
       "7    RR   1.684943 -61.248485                          3891\n",
       "8    TO -10.804495 -48.258740                          1241"
      ]
     },
     "execution_count": 3,
     "metadata": {},
     "output_type": "execute_result"
    }
   ],
   "source": [
    "coordinates_df"
   ]
  },
  {
   "cell_type": "code",
   "execution_count": null,
   "metadata": {},
   "outputs": [],
   "source": []
  },
  {
   "cell_type": "code",
   "execution_count": null,
   "metadata": {},
   "outputs": [],
   "source": []
  }
 ],
 "metadata": {
  "kernelspec": {
   "display_name": "Python 3",
   "language": "python",
   "name": "python3"
  },
  "language_info": {
   "codemirror_mode": {
    "name": "ipython",
    "version": 3
   },
   "file_extension": ".py",
   "mimetype": "text/x-python",
   "name": "python",
   "nbconvert_exporter": "python",
   "pygments_lexer": "ipython3",
   "version": "3.8.3"
  }
 },
 "nbformat": 4,
 "nbformat_minor": 5
}
